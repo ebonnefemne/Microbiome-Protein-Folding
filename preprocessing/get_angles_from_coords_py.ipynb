{
 "cells": [
  {
   "cell_type": "markdown",
   "metadata": {},
   "source": [
    "#  Calculate Dihedral Angles from Coordinates"
   ]
  },
  {
   "cell_type": "code",
   "execution_count": 1,
   "metadata": {},
   "outputs": [],
   "source": [
    "# Import libraries - LOAD THE DATA\n",
    "import numpy as np\n",
    "import matplotlib.pyplot as plt"
   ]
  },
  {
   "cell_type": "code",
   "execution_count": 2,
   "metadata": {},
   "outputs": [],
   "source": [
    "def parse_line(raw):\n",
    "    return np.array([[float(x) for x in line.split(\"\\t\") if x != \"\"] for line in raw])"
   ]
  },
  {
   "cell_type": "code",
   "execution_count": 3,
   "metadata": {},
   "outputs": [],
   "source": [
    "names = []\n",
    "seqs = []\n",
    "psis = []\n",
    "phis = []\n",
    "pssms = []\n",
    "coords = []\n",
    "\n",
    "path = \"../data/full_under_200.txt\"\n",
    "# Opn file and read text\n",
    "with open(path, \"r\") as f:\n",
    "    lines = f.read().split('\\n')"
   ]
  },
  {
   "cell_type": "code",
   "execution_count": 4,
   "metadata": {
    "scrolled": true
   },
   "outputs": [
    {
     "name": "stdout",
     "output_type": "stream",
     "text": [
      "Currently @  50  out of n\n",
      "Currently @  100  out of n\n",
      "Currently @  150  out of n\n",
      "Currently @  200  out of n\n",
      "Currently @  250  out of n\n",
      "Currently @  300  out of n\n",
      "Currently @  350  out of n\n",
      "Currently @  400  out of n\n",
      "Currently @  450  out of n\n",
      "Currently @  500  out of n\n",
      "Currently @  550  out of n\n",
      "Currently @  600  out of n\n"
     ]
    }
   ],
   "source": [
    "# Extract numeric data from text\n",
    "for i,line in enumerate(lines):\n",
    "    if len(names) == 601:\n",
    "        break\n",
    "    # Read each protein separately\n",
    "    if line == \"[ID]\":\n",
    "        names.append(lines[i+1])\n",
    "    elif line == \"[PRIMARY]\":\n",
    "        seqs.append(lines[i+1])\n",
    "    elif line == \"[EVOLUTIONARY]\":\n",
    "        pssms.append(parse_line(lines[i+1:i+22]))\n",
    "    elif line == \"[TERTIARY]\":\n",
    "        coords.append(parse_line(lines[i+1:i+3+1]))\n",
    "        # Progress control\n",
    "        if len(names)%50 == 0:\n",
    "            print(\"Currently @ \", len(names), \" out of n\")"
   ]
  },
  {
   "cell_type": "code",
   "execution_count": 5,
   "metadata": {},
   "outputs": [],
   "source": [
    "#Get the coordinates for 1 atom type\n",
    "def separate_coords(full_coords, pos): # pos can be either 0(n_term), 1(calpha), 2(cterm)\n",
    "    res = []\n",
    "    for i in range(len(full_coords[1])):\n",
    "        if i%3 == pos:\n",
    "            res.append([full_coords[j][i] for j in range(3)])\n",
    "\n",
    "    return np.array(res)"
   ]
  },
  {
   "cell_type": "code",
   "execution_count": 6,
   "metadata": {},
   "outputs": [],
   "source": [
    "# Organize by atom type\n",
    "coords_nterm = [separate_coords(full_coords, 0) for full_coords in coords]\n",
    "coords_calpha = [separate_coords(full_coords, 1) for full_coords in coords]\n",
    "coords_cterm = [separate_coords(full_coords, 2) for full_coords in coords]"
   ]
  },
  {
   "cell_type": "code",
   "execution_count": 7,
   "metadata": {},
   "outputs": [
    {
     "name": "stdout",
     "output_type": "stream",
     "text": [
      "Length coords_calpha:  600\n",
      "Length coords_calpha[1]:  142\n",
      "Length coords_calpha[1][1]:  3\n"
     ]
    }
   ],
   "source": [
    "# Check everything's ok\n",
    "print(\"Length coords_calpha: \", len(coords_cterm))\n",
    "print(\"Length coords_calpha[1]: \", len(coords_cterm[1]))\n",
    "print(\"Length coords_calpha[1][1]: \", len(coords_cterm[1][1]))"
   ]
  },
  {
   "cell_type": "code",
   "execution_count": 8,
   "metadata": {},
   "outputs": [],
   "source": [
    "# Helper functions\n",
    "def get_dihedral(coords1, coords2, coords3, coords4):\n",
    "    \"\"\"Returns the dihedral angle in degrees.\"\"\"\n",
    "\n",
    "    a1 = coords2 - coords1\n",
    "    a2 = coords3 - coords2\n",
    "    a3 = coords4 - coords3\n",
    "\n",
    "    v1 = np.cross(a1, a2)\n",
    "    v1 = v1 / (v1 * v1).sum(-1)**0.5\n",
    "    v2 = np.cross(a2, a3)\n",
    "    v2 = v2 / (v2 * v2).sum(-1)**0.5\n",
    "    porm = np.sign((v1 * a3).sum(-1))\n",
    "    rad = np.arccos((v1*v2).sum(-1) / ((v1**2).sum(-1) * (v2**2).sum(-1))**0.5)\n",
    "    if not porm == 0:\n",
    "        rad = rad * porm\n",
    "\n",
    "    return rad"
   ]
  },
  {
   "cell_type": "code",
   "execution_count": 9,
   "metadata": {},
   "outputs": [
    {
     "name": "stderr",
     "output_type": "stream",
     "text": [
      "c:\\users\\eric\\appdata\\local\\programs\\python\\python36\\lib\\site-packages\\ipykernel_launcher.py:10: RuntimeWarning: invalid value encountered in true_divide\n",
      "  # Remove the CWD from sys.path while we load stuff.\n",
      "c:\\users\\eric\\appdata\\local\\programs\\python\\python36\\lib\\site-packages\\ipykernel_launcher.py:12: RuntimeWarning: invalid value encountered in true_divide\n",
      "  if sys.path[0] == '':\n",
      "c:\\users\\eric\\appdata\\local\\programs\\python\\python36\\lib\\site-packages\\ipykernel_launcher.py:13: RuntimeWarning: invalid value encountered in sign\n",
      "  del sys.path[0]\n"
     ]
    }
   ],
   "source": [
    "# Compute angles for a protein\n",
    "phis, psis = [], [] # phi always starts with a 0 and psi ends with a 0\n",
    "ph_angle_dists, ps_angle_dists = [], []\n",
    "for k in range(len(coords)):\n",
    "    phi, psi = [0.0], []\n",
    "    # Use our own functions inspired from bioPython\n",
    "    for i in range(len(coords_calpha[k])):\n",
    "        # Calculate phi, psi\n",
    "        # CALCULATE PHI - Can't calculate for first residue\n",
    "        if i>0:\n",
    "            phi.append(get_dihedral(coords_cterm[k][i-1], coords_nterm[k][i], coords_calpha[k][i], coords_cterm[k][i])) # my_calc\n",
    "            \n",
    "        # CALCULATE PSI - Can't calculate for last residue\n",
    "        if i<len(coords_calpha[k])-1: \n",
    "            psi.append(get_dihedral(coords_nterm[k][i], coords_calpha[k][i], coords_cterm[k][i], coords_nterm[k][i+1])) # my_calc\n",
    "        \n",
    "    # Add an extra 0 to psi (unable to claculate angle with next aa)\n",
    "    psi.append(0)\n",
    "    # Add protein info to register\n",
    "    phis.append(phi)\n",
    "    psis.append(psi)"
   ]
  },
  {
   "cell_type": "code",
   "execution_count": 10,
   "metadata": {},
   "outputs": [
    {
     "name": "stdout",
     "output_type": "stream",
     "text": [
      "['1 2 3 4 5 6 ']\n"
     ]
    }
   ],
   "source": [
    "def stringify(vec):\n",
    "    \"\"\" Helper function to save data to .txt file. \"\"\"\n",
    "    line = \"\"\n",
    "    for v in vec:\n",
    "        line = line+str(v)+\" \"\n",
    "    return line\n",
    "\n",
    "# Test function\n",
    "print([stringify([1,2,3,4,5,6])])"
   ]
  },
  {
   "cell_type": "code",
   "execution_count": 11,
   "metadata": {},
   "outputs": [
    {
     "name": "stdout",
     "output_type": "stream",
     "text": [
      "Quadrants:  [542, 4459, 4458, 561]  from  10020\n"
     ]
    }
   ],
   "source": [
    "# Check angles distribution is a Ramachandran Plot (2nd and 3rd quads. dense)\n",
    "n = 100\n",
    "test_phi = []\n",
    "for i in range(n):\n",
    "    for test in phis[i]:\n",
    "        test_phi.append(test)\n",
    "test_phi = np.array(test_phi)\n",
    "\n",
    "test_psi = []\n",
    "for i in range(n):\n",
    "    for test in psis[i]:\n",
    "        test_psi.append(test)\n",
    "test_psi = np.array(test_psi)\n",
    "\n",
    "# For quadrants following trigonometry positions\n",
    "quads = [0,0,0,0]\n",
    "for i in range(len(test_phi)):\n",
    "    if test_phi[i] >= 0 and test_psi[i] >= 0:\n",
    "        quads[0] += 1\n",
    "    elif test_phi[i] < 0 and test_psi[i] >= 0:\n",
    "        quads[1] += 1\n",
    "    elif test_phi[i] < 0 and test_psi[i] < 0:\n",
    "        quads[2] += 1\n",
    "    else:\n",
    "        quads[3] += 1\n",
    "        \n",
    "print(\"Quadrants: \", quads, \" from \", len(test_phi))"
   ]
  },
  {
   "cell_type": "code",
   "execution_count": 12,
   "metadata": {},
   "outputs": [
    {
     "data": {
      "image/png": "[encoded data removed]",
      "text/plain": [
       "<Figure size 432x288 with 1 Axes>"
      ]
     },
     "metadata": {
      "needs_background": "light"
     },
     "output_type": "display_data"
    }
   ],
   "source": [
    "# Visualize data. Check it matches the Ramachandran Plot distribution\n",
    "# (Ergo check if angles are well computed)\n",
    "plt.scatter(test_phi, test_psi, marker=\".\")\n",
    "plt.xlim(-np.pi, np.pi)\n",
    "plt.xlabel(\"Phi\")\n",
    "plt.ylabel(\"Psi\")\n",
    "plt.ylim(-np.pi, np.pi)\n",
    "plt.show()"
   ]
  },
  {
   "cell_type": "code",
   "execution_count": 13,
   "metadata": {},
   "outputs": [],
   "source": [
    "# Data is OK. Can save it to file.\n",
    "with open(\"../data/angles/full_angles_under_200.txt\", \"a\") as f:\n",
    "    for k in range(len(names)-1):\n",
    "        # ID\n",
    "        f.write(\"\\n[ID]\\n\")\n",
    "        f.write(names[k])\n",
    "        # Seq\n",
    "        f.write(\"\\n[PRIMARY]\\n\")\n",
    "        f.write(seqs[k])\n",
    "        # PSSMS\n",
    "        f.write(\"\\n[EVOLUTIONARY]\\n\")\n",
    "        for j in range(len(pssms[k])):\n",
    "            f.write(stringify(pssms[k][j])+\"\\n\")\n",
    "        # PHI\n",
    "        f.write(\"\\n[PHI]\\n\")\n",
    "        f.write(stringify(phis[k]))\n",
    "        # PSI\n",
    "        f.write(\"\\n[PSI]\\n\")\n",
    "        f.write(stringify(psis[k]))\n"
   ]
  },
  {
   "cell_type": "markdown",
   "metadata": {},
   "source": [
    "# Done!"
   ]
  }
 ],
 "metadata": {
  "kernelspec": {
   "display_name": "Python 3",
   "language": "python",
   "name": "python3"
  },
  "language_info": {
   "codemirror_mode": {
    "name": "ipython",
    "version": 3
   },
   "file_extension": ".py",
   "mimetype": "text/x-python",
   "name": "python",
   "nbconvert_exporter": "python",
   "pygments_lexer": "ipython3",
   "version": "3.6.7"
  }
 },
 "nbformat": 4,
 "nbformat_minor": 2
}
