{
 "cells": [
  {
   "cell_type": "code",
   "execution_count": 2,
   "metadata": {},
   "outputs": [],
   "source": [
    "# Import libraries\n",
    "import numpy as np\n",
    "import matplotlib.pyplot as plt\n",
    "# Import libraries\n",
    "import keras\n",
    "import keras.backend as K\n",
    "from keras.models import Model\n",
    "# Activation and Regularization\n",
    "from keras.regularizers import l2\n",
    "from keras.activations import softmax\n",
    "# Keras layers\n",
    "from keras.layers.convolutional import Conv2D, Conv2DTranspose\n",
    "from keras.layers import Dense, Dropout, Flatten, Input, BatchNormalization, Activation\n",
    "from keras.layers.pooling import MaxPooling2D, AveragePooling2D\n",
    "\n",
    "# Model architecture\n",
    "from elu_resnet_2d_distances import *"
   ]
  },
  {
   "cell_type": "markdown",
   "metadata": {},
   "source": [
    "## Loading the Dataset"
   ]
  },
  {
   "cell_type": "code",
   "execution_count": 3,
   "metadata": {},
   "outputs": [],
   "source": [
    "# Helper functions to read data from files\n",
    "def parse_lines(raw):\n",
    "    return [[float(x) for x in line.split(\"\\t\") if x != \"\"] for line in raw]\n",
    "\n",
    "def parse_line(line):\n",
    "    return [float(x) for x in line.split(\"\\t\") if x != \"\"]"
   ]
  },
  {
   "cell_type": "code",
   "execution_count": 4,
   "metadata": {},
   "outputs": [],
   "source": [
    "path = \"../data/full_under_200.txt\"\n",
    "# Opn file and read text\n",
    "with open(path, \"r\") as f:\n",
    "    lines = f.read().split('\\n')"
   ]
  },
  {
   "cell_type": "code",
   "execution_count": 5,
   "metadata": {},
   "outputs": [
    {
     "name": "stdout",
     "output_type": "stream",
     "text": [
      "Currently @  50  out of n (500)\n",
      "Currently @  100  out of n (500)\n",
      "Currently @  150  out of n (500)\n"
     ]
    }
   ],
   "source": [
    "# Scan first n proteins\n",
    "names = []\n",
    "seqs = []\n",
    "dists = []\n",
    "pssms = []\n",
    "\n",
    "# Extract numeric data from text\n",
    "for i,line in enumerate(lines):\n",
    "    if len(names) == 151:\n",
    "        break\n",
    "    # Read each protein separately\n",
    "    if line == \"[ID]\":\n",
    "        names.append(lines[i+1])\n",
    "    elif line == \"[PRIMARY]\":\n",
    "        seqs.append(lines[i+1])\n",
    "    elif line == \"[EVOLUTIONARY]\":\n",
    "        pssms.append(parse_lines(lines[i+1:i+21]))\n",
    "    elif line == \"[DIST]\":\n",
    "        dists.append(parse_lines(lines[i+1:i+len(seqs[-1])+1]))\n",
    "        # Progress control\n",
    "        if len(names)%50 == 0:\n",
    "            print(\"Currently @ \", len(names), \" out of n (500)\")"
   ]
  },
  {
   "cell_type": "code",
   "execution_count": 6,
   "metadata": {},
   "outputs": [
    {
     "name": "stdout",
     "output_type": "stream",
     "text": [
      "Seqs:  150\n",
      "Dists:  150\n",
      "Pssms:  150\n"
     ]
    }
   ],
   "source": [
    "# print(\"Names: \", len(names))\n",
    "print(\"Seqs: \", len(seqs))\n",
    "print(\"Dists: \", len(dists))\n",
    "print(\"Pssms: \", len(pssms))"
   ]
  },
  {
   "cell_type": "code",
   "execution_count": 7,
   "metadata": {},
   "outputs": [],
   "source": [
    "def wider(seq, l=200, n=20):\n",
    "    \"\"\" Converts a seq into a one-hot tensor. Not LxN but LxLxN\"\"\"\n",
    "    key = \"HRKDENQSYTCPAVLIGFWM\"\n",
    "    tensor = []\n",
    "    for i in range(l):\n",
    "        d2 = []\n",
    "        for j in range(l):\n",
    "            d1 = [1 if (j<len(seq) and i<len(seq) and key[x] == seq[i] and key[x] == seq[j]) else 0 for x in range(n)]\n",
    "    \n",
    "            d2.append(d1)\n",
    "        tensor.append(d2)\n",
    "    \n",
    "    return np.array(tensor)"
   ]
  },
  {
   "cell_type": "code",
   "execution_count": 8,
   "metadata": {},
   "outputs": [],
   "source": [
    "# One-hot matrix of LxLxN (200x200x20) encoding for sequence\n",
    "inputs_aa = np.array([wider(seq) for seq in seqs])"
   ]
  },
  {
   "cell_type": "code",
   "execution_count": 9,
   "metadata": {},
   "outputs": [
    {
     "data": {
      "text/plain": [
       "(150, 200, 200, 20)"
      ]
     },
     "execution_count": 9,
     "metadata": {},
     "output_type": "execute_result"
    }
   ],
   "source": [
    "inputs_aa.shape"
   ]
  },
  {
   "cell_type": "code",
   "execution_count": 10,
   "metadata": {},
   "outputs": [],
   "source": [
    "def wider_pssm(pssm, l=200, n=20):\n",
    "    \"\"\" Converts a seq into a one-hot tensor. Not LxN but LxLxN\"\"\"\n",
    "    tensor = []\n",
    "    for i in range(l):\n",
    "        d2 = []\n",
    "        for j in range(l):\n",
    "            if (j<len(seq) and i<len(seq) and key[x] == seq[i] and key[x] == seq[j]):\n",
    "                d1 = [aa[i] for aa in pssm]\n",
    "            else:\n",
    "                d1 = [0 for i in range(n)]\n",
    "    \n",
    "            d2.append(d1)\n",
    "        tensor.append(d2)\n",
    "    \n",
    "    return np.array(tensor)"
   ]
  },
  {
   "cell_type": "code",
   "execution_count": 11,
   "metadata": {},
   "outputs": [],
   "source": [
    "# Matrix of LxLxN (200x200x20) encoding for PSSM\n",
    "inputs_pssm = np.array([wider(pssm) for pssm in pssms])"
   ]
  },
  {
   "cell_type": "code",
   "execution_count": 12,
   "metadata": {},
   "outputs": [
    {
     "data": {
      "text/plain": [
       "(150, 200, 200, 20)"
      ]
     },
     "execution_count": 12,
     "metadata": {},
     "output_type": "execute_result"
    }
   ],
   "source": [
    "inputs_pssm.shape"
   ]
  },
  {
   "cell_type": "code",
   "execution_count": 13,
   "metadata": {},
   "outputs": [
    {
     "data": {
      "text/plain": [
       "(150, 200, 200, 40)"
      ]
     },
     "execution_count": 13,
     "metadata": {},
     "output_type": "execute_result"
    }
   ],
   "source": [
    "inputs = np.concatenate((inputs_aa, inputs_pssm), axis=3)\n",
    "inputs.shape"
   ]
  },
  {
   "cell_type": "code",
   "execution_count": 14,
   "metadata": {},
   "outputs": [],
   "source": [
    "# Embed number of rows\n",
    "def embedding_matrix(matrix, l=200):\n",
    "    # Embed with extra columns\n",
    "    for i in range(len(matrix)):\n",
    "        while len(matrix[i])<l:\n",
    "            matrix[i].extend([-1 for i in range(l-len(matrix[i]))])\n",
    "    #Embed with extra rows\n",
    "    while len(matrix)<l:\n",
    "        matrix.append([-1 for x in range(l)])\n",
    "    return np.array(matrix)"
   ]
  },
  {
   "cell_type": "code",
   "execution_count": 15,
   "metadata": {},
   "outputs": [],
   "source": [
    "dists = np.array([embedding_matrix(matrix) for matrix in dists])"
   ]
  },
  {
   "cell_type": "code",
   "execution_count": 16,
   "metadata": {},
   "outputs": [],
   "source": [
    "def treshold(matrix, cuts=[-0.5, 500, 750, 1000, 1250, 1500, 2000], l=200):\n",
    "    # Turns an L*L*1 tensor into an L*L*N \n",
    "    trash = (np.array(matrix)<cuts[0]).astype(np.int)\n",
    "    first = (np.array(matrix)<cuts[1]).astype(np.int)-trash\n",
    "    sec = (np.array(matrix)<cuts[2]).astype(np.int)-trash-first\n",
    "    third = (np.array(matrix)<=cuts[3]).astype(np.int)-trash-first-sec\n",
    "    fourth = (np.array(matrix)<=cuts[4]).astype(np.int)-trash-first-sec-third\n",
    "    fifth = (np.array(matrix)<=cuts[5]).astype(np.int)-trash-first-sec-third-fourth\n",
    "    sixth = np.array(matrix)>cuts[5]\n",
    "    \n",
    "    return np.concatenate((trash.reshape(l,l,1),\n",
    "                           first.reshape(l,l,1),\n",
    "                           sec.reshape(l,l,1),\n",
    "                           third.reshape(l,l,1),\n",
    "                           fourth.reshape(l,l,1),\n",
    "                           fifth.reshape(l,l,1),\n",
    "                           sixth.reshape(l,l,1)),axis=2)"
   ]
  },
  {
   "cell_type": "code",
   "execution_count": 17,
   "metadata": {},
   "outputs": [],
   "source": [
    "outputs = np.array([treshold(d) for d in dists])"
   ]
  },
  {
   "cell_type": "code",
   "execution_count": 18,
   "metadata": {},
   "outputs": [
    {
     "name": "stdout",
     "output_type": "stream",
     "text": [
      "(150, 200, 200, 7)\n"
     ]
    }
   ],
   "source": [
    "print(outputs.shape)"
   ]
  },
  {
   "cell_type": "code",
   "execution_count": 19,
   "metadata": {},
   "outputs": [],
   "source": [
    "# WE DON'T PREPROCESS INPUTS SINCE THEY'RE IN 0-1 RANGE"
   ]
  },
  {
   "cell_type": "markdown",
   "metadata": {},
   "source": [
    "## Loading the model"
   ]
  },
  {
   "cell_type": "code",
   "execution_count": null,
   "metadata": {},
   "outputs": [],
   "source": [
    "# Using AMSGrad optimizer for speed \n",
    "kernel_size, filters = 3, 16\n",
    "adam = keras.optimizers.Adam(amsgrad=True)\n",
    "# Create model\n",
    "model = model = resnet_v2(input_shape=(200,200, 40), depth=8, num_classes=7)"
   ]
  },
  {
   "cell_type": "code",
   "execution_count": 97,
   "metadata": {},
   "outputs": [
    {
     "name": "stdout",
     "output_type": "stream",
     "text": [
      "__________________________________________________________________________________________________\n",
      "Layer (type)                    Output Shape         Param #     Connected to                     \n",
      "==================================================================================================\n",
      "input_1 (InputLayer)            (None, 200, 200, 40) 0                                            \n",
      "__________________________________________________________________________________________________\n",
      "conv2d_1 (Conv2D)               (None, 200, 200, 16) 5776        input_1[0][0]                    \n",
      "__________________________________________________________________________________________________\n",
      "batch_normalization_1 (BatchNor (None, 200, 200, 16) 64          conv2d_1[0][0]                   \n",
      "__________________________________________________________________________________________________\n",
      "activation_1 (Activation)       (None, 200, 200, 16) 0           batch_normalization_1[0][0]      \n",
      "__________________________________________________________________________________________________\n",
      "batch_normalization_2 (BatchNor (None, 200, 200, 16) 64          activation_1[0][0]               \n",
      "__________________________________________________________________________________________________\n",
      "activation_2 (Activation)       (None, 200, 200, 16) 0           batch_normalization_2[0][0]      \n",
      "__________________________________________________________________________________________________\n",
      "conv2d_2 (Conv2D)               (None, 200, 200, 8)  136         activation_2[0][0]               \n",
      "__________________________________________________________________________________________________\n",
      "batch_normalization_3 (BatchNor (None, 200, 200, 8)  32          conv2d_2[0][0]                   \n",
      "__________________________________________________________________________________________________\n",
      "activation_3 (Activation)       (None, 200, 200, 8)  0           batch_normalization_3[0][0]      \n",
      "__________________________________________________________________________________________________\n",
      "conv2d_3 (Conv2D)               (None, 200, 200, 8)  584         activation_3[0][0]               \n",
      "__________________________________________________________________________________________________\n",
      "batch_normalization_4 (BatchNor (None, 200, 200, 8)  32          conv2d_3[0][0]                   \n",
      "__________________________________________________________________________________________________\n",
      "activation_4 (Activation)       (None, 200, 200, 8)  0           batch_normalization_4[0][0]      \n",
      "__________________________________________________________________________________________________\n",
      "conv2d_transpose_1 (Conv2DTrans (None, 200, 200, 16) 144         activation_4[0][0]               \n",
      "__________________________________________________________________________________________________\n",
      "add_1 (Add)                     (None, 200, 200, 16) 0           activation_1[0][0]               \n",
      "                                                                 conv2d_transpose_1[0][0]         \n",
      "__________________________________________________________________________________________________\n",
      "batch_normalization_5 (BatchNor (None, 200, 200, 16) 64          add_1[0][0]                      \n",
      "__________________________________________________________________________________________________\n",
      "activation_5 (Activation)       (None, 200, 200, 16) 0           batch_normalization_5[0][0]      \n",
      "__________________________________________________________________________________________________\n",
      "conv2d_4 (Conv2D)               (None, 200, 200, 8)  136         activation_5[0][0]               \n",
      "__________________________________________________________________________________________________\n",
      "batch_normalization_6 (BatchNor (None, 200, 200, 8)  32          conv2d_4[0][0]                   \n",
      "__________________________________________________________________________________________________\n",
      "activation_6 (Activation)       (None, 200, 200, 8)  0           batch_normalization_6[0][0]      \n",
      "__________________________________________________________________________________________________\n",
      "conv2d_5 (Conv2D)               (None, 100, 100, 8)  584         activation_6[0][0]               \n",
      "__________________________________________________________________________________________________\n",
      "batch_normalization_7 (BatchNor (None, 100, 100, 8)  32          conv2d_5[0][0]                   \n",
      "__________________________________________________________________________________________________\n",
      "activation_7 (Activation)       (None, 100, 100, 8)  0           batch_normalization_7[0][0]      \n",
      "__________________________________________________________________________________________________\n",
      "conv2d_transpose_2 (Conv2DTrans (None, 200, 200, 16) 144         activation_7[0][0]               \n",
      "__________________________________________________________________________________________________\n",
      "add_2 (Add)                     (None, 200, 200, 16) 0           add_1[0][0]                      \n",
      "                                                                 conv2d_transpose_2[0][0]         \n",
      "__________________________________________________________________________________________________\n",
      "batch_normalization_8 (BatchNor (None, 200, 200, 16) 64          add_2[0][0]                      \n",
      "__________________________________________________________________________________________________\n",
      "activation_8 (Activation)       (None, 200, 200, 16) 0           batch_normalization_8[0][0]      \n",
      "__________________________________________________________________________________________________\n",
      "conv2d_6 (Conv2D)               (None, 200, 200, 8)  136         activation_8[0][0]               \n",
      "__________________________________________________________________________________________________\n",
      "batch_normalization_9 (BatchNor (None, 200, 200, 8)  32          conv2d_6[0][0]                   \n",
      "__________________________________________________________________________________________________\n",
      "activation_9 (Activation)       (None, 200, 200, 8)  0           batch_normalization_9[0][0]      \n",
      "__________________________________________________________________________________________________\n",
      "conv2d_7 (Conv2D)               (None, 50, 50, 8)    584         activation_9[0][0]               \n",
      "__________________________________________________________________________________________________\n",
      "batch_normalization_10 (BatchNo (None, 50, 50, 8)    32          conv2d_7[0][0]                   \n",
      "__________________________________________________________________________________________________\n",
      "activation_10 (Activation)      (None, 50, 50, 8)    0           batch_normalization_10[0][0]     \n",
      "__________________________________________________________________________________________________\n",
      "conv2d_transpose_3 (Conv2DTrans (None, 200, 200, 16) 144         activation_10[0][0]              \n",
      "__________________________________________________________________________________________________\n",
      "add_3 (Add)                     (None, 200, 200, 16) 0           add_2[0][0]                      \n",
      "                                                                 conv2d_transpose_3[0][0]         \n",
      "__________________________________________________________________________________________________\n",
      "batch_normalization_11 (BatchNo (None, 200, 200, 16) 64          add_3[0][0]                      \n",
      "__________________________________________________________________________________________________\n",
      "activation_11 (Activation)      (None, 200, 200, 16) 0           batch_normalization_11[0][0]     \n",
      "__________________________________________________________________________________________________\n",
      "conv2d_8 (Conv2D)               (None, 200, 200, 8)  136         activation_11[0][0]              \n",
      "__________________________________________________________________________________________________\n",
      "batch_normalization_12 (BatchNo (None, 200, 200, 8)  32          conv2d_8[0][0]                   \n",
      "__________________________________________________________________________________________________\n",
      "activation_12 (Activation)      (None, 200, 200, 8)  0           batch_normalization_12[0][0]     \n",
      "__________________________________________________________________________________________________\n",
      "conv2d_9 (Conv2D)               (None, 25, 25, 8)    584         activation_12[0][0]              \n",
      "__________________________________________________________________________________________________\n",
      "batch_normalization_13 (BatchNo (None, 25, 25, 8)    32          conv2d_9[0][0]                   \n",
      "__________________________________________________________________________________________________\n",
      "activation_13 (Activation)      (None, 25, 25, 8)    0           batch_normalization_13[0][0]     \n",
      "__________________________________________________________________________________________________\n",
      "conv2d_transpose_4 (Conv2DTrans (None, 200, 200, 16) 144         activation_13[0][0]              \n",
      "__________________________________________________________________________________________________\n",
      "add_4 (Add)                     (None, 200, 200, 16) 0           add_3[0][0]                      \n",
      "                                                                 conv2d_transpose_4[0][0]         \n",
      "__________________________________________________________________________________________________\n",
      "batch_normalization_14 (BatchNo (None, 200, 200, 16) 64          add_4[0][0]                      \n",
      "__________________________________________________________________________________________________\n",
      "activation_14 (Activation)      (None, 200, 200, 16) 0           batch_normalization_14[0][0]     \n",
      "__________________________________________________________________________________________________\n",
      "conv2d_10 (Conv2D)              (None, 200, 200, 8)  136         activation_14[0][0]              \n",
      "__________________________________________________________________________________________________\n",
      "batch_normalization_15 (BatchNo (None, 200, 200, 8)  32          conv2d_10[0][0]                  \n",
      "__________________________________________________________________________________________________\n",
      "activation_15 (Activation)      (None, 200, 200, 8)  0           batch_normalization_15[0][0]     \n",
      "__________________________________________________________________________________________________\n",
      "conv2d_11 (Conv2D)              (None, 200, 200, 8)  584         activation_15[0][0]              \n",
      "__________________________________________________________________________________________________\n",
      "batch_normalization_16 (BatchNo (None, 200, 200, 8)  32          conv2d_11[0][0]                  \n",
      "__________________________________________________________________________________________________\n",
      "activation_16 (Activation)      (None, 200, 200, 8)  0           batch_normalization_16[0][0]     \n",
      "__________________________________________________________________________________________________\n",
      "conv2d_transpose_5 (Conv2DTrans (None, 200, 200, 16) 144         activation_16[0][0]              \n",
      "__________________________________________________________________________________________________\n",
      "add_5 (Add)                     (None, 200, 200, 16) 0           add_4[0][0]                      \n",
      "                                                                 conv2d_transpose_5[0][0]         \n",
      "__________________________________________________________________________________________________\n",
      "batch_normalization_17 (BatchNo (None, 200, 200, 16) 64          add_5[0][0]                      \n",
      "__________________________________________________________________________________________________\n",
      "activation_17 (Activation)      (None, 200, 200, 16) 0           batch_normalization_17[0][0]     \n",
      "__________________________________________________________________________________________________\n",
      "conv2d_12 (Conv2D)              (None, 200, 200, 8)  136         activation_17[0][0]              \n",
      "__________________________________________________________________________________________________\n",
      "batch_normalization_18 (BatchNo (None, 200, 200, 8)  32          conv2d_12[0][0]                  \n",
      "__________________________________________________________________________________________________\n",
      "activation_18 (Activation)      (None, 200, 200, 8)  0           batch_normalization_18[0][0]     \n",
      "__________________________________________________________________________________________________\n",
      "conv2d_13 (Conv2D)              (None, 100, 100, 8)  584         activation_18[0][0]              \n",
      "__________________________________________________________________________________________________\n",
      "batch_normalization_19 (BatchNo (None, 100, 100, 8)  32          conv2d_13[0][0]                  \n",
      "__________________________________________________________________________________________________\n",
      "activation_19 (Activation)      (None, 100, 100, 8)  0           batch_normalization_19[0][0]     \n",
      "__________________________________________________________________________________________________\n",
      "conv2d_transpose_6 (Conv2DTrans (None, 200, 200, 16) 144         activation_19[0][0]              \n",
      "__________________________________________________________________________________________________\n",
      "add_6 (Add)                     (None, 200, 200, 16) 0           add_5[0][0]                      \n",
      "                                                                 conv2d_transpose_6[0][0]         \n",
      "__________________________________________________________________________________________________\n",
      "batch_normalization_20 (BatchNo (None, 200, 200, 16) 64          add_6[0][0]                      \n",
      "__________________________________________________________________________________________________\n",
      "activation_20 (Activation)      (None, 200, 200, 16) 0           batch_normalization_20[0][0]     \n",
      "__________________________________________________________________________________________________\n",
      "conv2d_14 (Conv2D)              (None, 200, 200, 8)  136         activation_20[0][0]              \n",
      "__________________________________________________________________________________________________\n",
      "batch_normalization_21 (BatchNo (None, 200, 200, 8)  32          conv2d_14[0][0]                  \n",
      "__________________________________________________________________________________________________\n",
      "activation_21 (Activation)      (None, 200, 200, 8)  0           batch_normalization_21[0][0]     \n",
      "__________________________________________________________________________________________________\n",
      "conv2d_15 (Conv2D)              (None, 50, 50, 8)    584         activation_21[0][0]              \n",
      "__________________________________________________________________________________________________\n",
      "batch_normalization_22 (BatchNo (None, 50, 50, 8)    32          conv2d_15[0][0]                  \n",
      "__________________________________________________________________________________________________\n",
      "activation_22 (Activation)      (None, 50, 50, 8)    0           batch_normalization_22[0][0]     \n",
      "__________________________________________________________________________________________________\n",
      "conv2d_transpose_7 (Conv2DTrans (None, 200, 200, 16) 144         activation_22[0][0]              \n",
      "__________________________________________________________________________________________________\n",
      "add_7 (Add)                     (None, 200, 200, 16) 0           add_6[0][0]                      \n",
      "                                                                 conv2d_transpose_7[0][0]         \n",
      "__________________________________________________________________________________________________\n",
      "batch_normalization_23 (BatchNo (None, 200, 200, 16) 64          add_7[0][0]                      \n",
      "__________________________________________________________________________________________________\n",
      "activation_23 (Activation)      (None, 200, 200, 16) 0           batch_normalization_23[0][0]     \n",
      "__________________________________________________________________________________________________\n",
      "conv2d_16 (Conv2D)              (None, 200, 200, 8)  136         activation_23[0][0]              \n",
      "__________________________________________________________________________________________________\n",
      "batch_normalization_24 (BatchNo (None, 200, 200, 8)  32          conv2d_16[0][0]                  \n",
      "__________________________________________________________________________________________________\n",
      "activation_24 (Activation)      (None, 200, 200, 8)  0           batch_normalization_24[0][0]     \n",
      "__________________________________________________________________________________________________\n",
      "conv2d_17 (Conv2D)              (None, 25, 25, 8)    584         activation_24[0][0]              \n",
      "__________________________________________________________________________________________________\n",
      "batch_normalization_25 (BatchNo (None, 25, 25, 8)    32          conv2d_17[0][0]                  \n",
      "__________________________________________________________________________________________________\n",
      "activation_25 (Activation)      (None, 25, 25, 8)    0           batch_normalization_25[0][0]     \n",
      "__________________________________________________________________________________________________\n",
      "conv2d_transpose_8 (Conv2DTrans (None, 200, 200, 16) 144         activation_25[0][0]              \n",
      "__________________________________________________________________________________________________\n",
      "add_8 (Add)                     (None, 200, 200, 16) 0           add_7[0][0]                      \n",
      "                                                                 conv2d_transpose_8[0][0]         \n",
      "__________________________________________________________________________________________________\n",
      "conv2d_18 (Conv2D)              (None, 200, 200, 7)  119         add_8[0][0]                      \n",
      "__________________________________________________________________________________________________\n",
      "activation_26 (Activation)      (None, 200, 200, 7)  0           conv2d_18[0][0]                  \n",
      "==================================================================================================\n",
      "Total params: 13,895\n",
      "Trainable params: 13,351\n",
      "Non-trainable params: 544\n",
      "__________________________________________________________________________________________________\n"
     ]
    }
   ],
   "source": [
    "# Started training with the following weights for custom activation: [0.01,1,0.9,0.8,0.7,0.6,0.5]\n",
    "# Changed to [0.0001,1.5,2,1.5,1,1,1] at 30 epochs\n",
    "model.compile(optimizer=adam, loss=weighted_categorical_crossentropy(\n",
    "              np.array([0.0001,1.5,2,1.5,1,1,1])), metrics=[\"accuracy\"]) #[0.01,1,0.9,0.8,0.7,0.6,0.5]\n",
    "model.summary()"
   ]
  },
  {
   "cell_type": "markdown",
   "metadata": {},
   "source": [
    "### Model training"
   ]
  },
  {
   "cell_type": "code",
   "execution_count": 21,
   "metadata": {},
   "outputs": [],
   "source": [
    "# Separate data between training and testing\n",
    "split = 134\n",
    "x_train, x_test = inputs[:split], inputs[split:]\n",
    "y_train, y_test = outputs[:split], outputs[split:]"
   ]
  },
  {
   "cell_type": "code",
   "execution_count": 22,
   "metadata": {
    "scrolled": false
   },
   "outputs": [
    {
     "name": "stdout",
     "output_type": "stream",
     "text": [
      "Train on 134 samples, validate on 16 samples\n",
      "Epoch 1/15\n",
      "134/134 [==============================] - 10s 74ms/step - loss: 0.9223 - acc: 0.0769 - val_loss: 0.6550 - val_acc: 0.1464\n",
      "Epoch 2/15\n",
      "134/134 [==============================] - 4s 32ms/step - loss: 0.5409 - acc: 0.1366 - val_loss: 0.5061 - val_acc: 0.1344\n",
      "Epoch 3/15\n",
      "134/134 [==============================] - 4s 32ms/step - loss: 0.4576 - acc: 0.1316 - val_loss: 0.4480 - val_acc: 0.1440\n",
      "Epoch 4/15\n",
      "134/134 [==============================] - 4s 32ms/step - loss: 0.4079 - acc: 0.1362 - val_loss: 0.4018 - val_acc: 0.1420\n",
      "Epoch 5/15\n",
      "134/134 [==============================] - 4s 32ms/step - loss: 0.3758 - acc: 0.1628 - val_loss: 0.3721 - val_acc: 0.1604\n",
      "Epoch 6/15\n",
      "134/134 [==============================] - 4s 32ms/step - loss: 0.3498 - acc: 0.1905 - val_loss: 0.3518 - val_acc: 0.1971\n",
      "Epoch 7/15\n",
      "134/134 [==============================] - 4s 32ms/step - loss: 0.3313 - acc: 0.2029 - val_loss: 0.3290 - val_acc: 0.2342\n",
      "Epoch 8/15\n",
      "134/134 [==============================] - 4s 32ms/step - loss: 0.3194 - acc: 0.2207 - val_loss: 0.3189 - val_acc: 0.2410\n",
      "Epoch 9/15\n",
      "134/134 [==============================] - 4s 32ms/step - loss: 0.3106 - acc: 0.2411 - val_loss: 0.3107 - val_acc: 0.2588\n",
      "Epoch 10/15\n",
      "134/134 [==============================] - 4s 32ms/step - loss: 0.3045 - acc: 0.2654 - val_loss: 0.3014 - val_acc: 0.2859\n",
      "Epoch 11/15\n",
      "134/134 [==============================] - 4s 32ms/step - loss: 0.2984 - acc: 0.3022 - val_loss: 0.2978 - val_acc: 0.3580\n",
      "Epoch 12/15\n",
      "134/134 [==============================] - 4s 32ms/step - loss: 0.2935 - acc: 0.3308 - val_loss: 0.2923 - val_acc: 0.3702\n",
      "Epoch 13/15\n",
      "134/134 [==============================] - 4s 32ms/step - loss: 0.2900 - acc: 0.3362 - val_loss: 0.2876 - val_acc: 0.3928\n",
      "Epoch 14/15\n",
      "134/134 [==============================] - 4s 32ms/step - loss: 0.2867 - acc: 0.3425 - val_loss: 0.2856 - val_acc: 0.4202\n",
      "Epoch 15/15\n",
      "134/134 [==============================] - 4s 32ms/step - loss: 0.2838 - acc: 0.3568 - val_loss: 0.2834 - val_acc: 0.3829\n"
     ]
    }
   ],
   "source": [
    "his = model.fit(x_train, y_train, epochs=15, batch_size=4, verbose=1, shuffle=True,\n",
    "                validation_data=(x_test, y_test))"
   ]
  },
  {
   "cell_type": "code",
   "execution_count": 34,
   "metadata": {},
   "outputs": [
    {
     "name": "stdout",
     "output_type": "stream",
     "text": [
      "Train on 134 samples, validate on 16 samples\n",
      "Epoch 1/15\n",
      "134/134 [==============================] - 5s 38ms/step - loss: 0.2809 - acc: 0.3598 - val_loss: 0.2818 - val_acc: 0.3430\n",
      "Epoch 2/15\n",
      "134/134 [==============================] - 5s 38ms/step - loss: 0.2769 - acc: 0.3629 - val_loss: 0.2775 - val_acc: 0.3445\n",
      "Epoch 3/15\n",
      "134/134 [==============================] - 5s 38ms/step - loss: 0.2712 - acc: 0.3702 - val_loss: 0.2769 - val_acc: 0.3549\n",
      "Epoch 4/15\n",
      "134/134 [==============================] - 5s 38ms/step - loss: 0.2675 - acc: 0.3676 - val_loss: 0.2669 - val_acc: 0.3051\n",
      "Epoch 5/15\n",
      "134/134 [==============================] - 5s 38ms/step - loss: 0.2628 - acc: 0.3696 - val_loss: 0.2638 - val_acc: 0.2768\n",
      "Epoch 6/15\n",
      "134/134 [==============================] - 5s 38ms/step - loss: 0.2626 - acc: 0.3720 - val_loss: 0.2667 - val_acc: 0.4250\n",
      "Epoch 7/15\n",
      "134/134 [==============================] - 5s 38ms/step - loss: 0.2573 - acc: 0.3799 - val_loss: 0.2619 - val_acc: 0.3920\n",
      "Epoch 8/15\n",
      "134/134 [==============================] - 5s 39ms/step - loss: 0.2564 - acc: 0.3794 - val_loss: 0.2639 - val_acc: 0.3558\n",
      "Epoch 9/15\n",
      "134/134 [==============================] - 5s 38ms/step - loss: 0.2523 - acc: 0.3839 - val_loss: 0.2681 - val_acc: 0.3801\n",
      "Epoch 10/15\n",
      "134/134 [==============================] - 5s 38ms/step - loss: 0.2511 - acc: 0.3791 - val_loss: 0.2604 - val_acc: 0.4142\n",
      "Epoch 11/15\n",
      "134/134 [==============================] - 5s 38ms/step - loss: 0.2495 - acc: 0.3983 - val_loss: 0.2542 - val_acc: 0.3864\n",
      "Epoch 12/15\n",
      "134/134 [==============================] - 5s 38ms/step - loss: 0.2472 - acc: 0.4035 - val_loss: 0.2505 - val_acc: 0.3738\n",
      "Epoch 13/15\n",
      "134/134 [==============================] - 5s 38ms/step - loss: 0.2464 - acc: 0.4061 - val_loss: 0.2498 - val_acc: 0.3347\n",
      "Epoch 14/15\n",
      "134/134 [==============================] - 5s 38ms/step - loss: 0.2447 - acc: 0.4009 - val_loss: 0.2486 - val_acc: 0.3912\n",
      "Epoch 15/15\n",
      "134/134 [==============================] - 5s 38ms/step - loss: 0.2419 - acc: 0.4162 - val_loss: 0.2488 - val_acc: 0.3866\n"
     ]
    }
   ],
   "source": [
    "his = model.fit(x_train, y_train, epochs=15, batch_size=2, verbose=1, shuffle=True,\n",
    "                validation_data=(x_test, y_test))"
   ]
  },
  {
   "cell_type": "code",
   "execution_count": 98,
   "metadata": {},
   "outputs": [
    {
     "name": "stdout",
     "output_type": "stream",
     "text": [
      "Train on 134 samples, validate on 16 samples\n",
      "Epoch 1/5\n",
      "134/134 [==============================] - 13s 93ms/step - loss: 0.3700 - acc: 0.4441 - val_loss: 0.3638 - val_acc: 0.4701\n",
      "Epoch 2/5\n",
      "134/134 [==============================] - 7s 52ms/step - loss: 0.3592 - acc: 0.4454 - val_loss: 0.3708 - val_acc: 0.4699\n",
      "Epoch 3/5\n",
      "134/134 [==============================] - 7s 53ms/step - loss: 0.3586 - acc: 0.4456 - val_loss: 0.3608 - val_acc: 0.3896\n",
      "Epoch 4/5\n",
      "134/134 [==============================] - 7s 52ms/step - loss: 0.3505 - acc: 0.4481 - val_loss: 0.3631 - val_acc: 0.4720\n",
      "Epoch 5/5\n",
      "134/134 [==============================] - 7s 52ms/step - loss: 0.3496 - acc: 0.4495 - val_loss: 0.3522 - val_acc: 0.4116\n"
     ]
    }
   ],
   "source": [
    "his = model.fit(x_train, y_train, epochs=5, batch_size=1, verbose=1, shuffle=True,\n",
    "                validation_data=(x_test, y_test))"
   ]
  },
  {
   "cell_type": "code",
   "execution_count": 99,
   "metadata": {},
   "outputs": [],
   "source": [
    "i,k = 0, 16 # k not too large (very little test data)\n",
    "sample_pred = model.predict([x_test[i:i+k]])"
   ]
  },
  {
   "cell_type": "code",
   "execution_count": 100,
   "metadata": {},
   "outputs": [],
   "source": [
    "preds4 = np.argmax(sample_pred, axis=3)\n",
    "preds4[preds4==0] = 6 # Change trash class by class for long distance"
   ]
  },
  {
   "cell_type": "code",
   "execution_count": 101,
   "metadata": {},
   "outputs": [],
   "source": [
    "outs4 = np.argmax(y_test[i:i+k], axis=3)"
   ]
  },
  {
   "cell_type": "code",
   "execution_count": 102,
   "metadata": {},
   "outputs": [
    {
     "name": "stdout",
     "output_type": "stream",
     "text": [
      "Best score (Accuracy):  0.8175941230486685\n",
      "Best 5 scores:  [0.8175941230486685, 0.8107741059302852, 0.8062471706654595, 0.7491825208085613, 0.6675]\n",
      "Index of best score:  3\n",
      "Worst 5 scores:  [0.20716832426346407, 0.19545925366031186, 0.1205285750357714, 0.08275462962962964, 0.009439853076216713]\n"
     ]
    }
   ],
   "source": [
    "# Select the best prediction to display it - (proportional by protein length(area of contact map))\n",
    "results = [np.sum(np.equal(pred[:len(seqs[i+j]), :len(seqs[i+j])], outs4[j, :len(seqs[i+j]), :len(seqs[i+j]),]),axis=(0,1))/\n",
    "           len(seqs[split+i+j])**2 \n",
    "           for j,pred in enumerate(preds4)]\n",
    "best_acc = max(results)\n",
    "print(\"Best score (Accuracy): \", best_acc)\n",
    "sorted_scores = [acc for acc in sorted(results, key=lambda x: x, reverse=True)]\n",
    "print(\"Best 5 scores: \", sorted_scores[:5])\n",
    "best_acc_pos = results.index(best_acc)\n",
    "print(\"Index of best score: \", best_acc_pos)    \n",
    "print(\"Worst 5 scores: \", sorted_scores[-5:])"
   ]
  },
  {
   "cell_type": "code",
   "execution_count": 120,
   "metadata": {},
   "outputs": [],
   "source": [
    "# Visualize other results\n",
    "# best_acc_pos= results.index(0.8062471706654595)"
   ]
  },
  {
   "cell_type": "code",
   "execution_count": 121,
   "metadata": {},
   "outputs": [
    {
     "data": {
      "image/png": "[encoded data removed]",
      "text/plain": [
       "<Figure size 432x288 with 1 Axes>"
      ]
     },
     "metadata": {
      "needs_background": "light"
     },
     "output_type": "display_data"
    },
    {
     "data": {
      "image/png": "[encoded data removed]",
      "text/plain": [
       "<Figure size 432x288 with 2 Axes>"
      ]
     },
     "metadata": {
      "needs_background": "light"
     },
     "output_type": "display_data"
    }
   ],
   "source": [
    "plt.title('Ground Truth')\n",
    "plt.imshow(outs4[best_acc_pos, :len(seqs[split+i+best_acc_pos]), :len(seqs[split+i+best_acc_pos])],\n",
    "           cmap='viridis_r', interpolation='nearest')\n",
    "plt.show()\n",
    "\n",
    "# Then plot predictions by the model - v2\n",
    "plt.title(\"Prediction by model\")\n",
    "plt.imshow(preds4[best_acc_pos, :len(seqs[split+i+best_acc_pos]), :len(seqs[split+i+best_acc_pos])],\n",
    "           cmap='viridis_r', interpolation='nearest')\n",
    "plt.colorbar()\n",
    "plt.show()"
   ]
  },
  {
   "cell_type": "markdown",
   "metadata": {},
   "source": [
    "## Making Predictions\n",
    "\n",
    "The protein plotted below is not well-labeled since the exact position for some AAs is missing.\n",
    "However, we can user our model to predict the distances betwween them!\n",
    "Both the structure known (plotted as ground truth) and our prediction are shown below."
   ]
  },
  {
   "cell_type": "code",
   "execution_count": 112,
   "metadata": {},
   "outputs": [
    {
     "data": {
      "image/png": "[encoded data removed]",
      "text/plain": [
       "<Figure size 432x288 with 1 Axes>"
      ]
     },
     "metadata": {
      "needs_background": "light"
     },
     "output_type": "display_data"
    },
    {
     "data": {
      "image/png": "[encoded data removed]",
      "text/plain": [
       "<Figure size 432x288 with 2 Axes>"
      ]
     },
     "metadata": {
      "needs_background": "light"
     },
     "output_type": "display_data"
    }
   ],
   "source": [
    "plt.title('Ground Truth')\n",
    "plt.imshow(outs4[best_acc_pos, :len(seqs[split+i+best_acc_pos]), :len(seqs[split+i+best_acc_pos])],\n",
    "           cmap='viridis_r', interpolation='nearest')\n",
    "plt.show()\n",
    "\n",
    "# Then plot predictions by the model - v2\n",
    "plt.title(\"Prediction by model\")\n",
    "plt.imshow(preds4[best_acc_pos, :len(seqs[split+i+best_acc_pos]), :len(seqs[split+i+best_acc_pos])],\n",
    "           cmap='viridis_r', interpolation='nearest')\n",
    "plt.colorbar()\n",
    "plt.show()"
   ]
  },
  {
   "cell_type": "markdown",
   "metadata": {},
   "source": [
    "### Seeing what the model is learning"
   ]
  },
  {
   "cell_type": "code",
   "execution_count": 123,
   "metadata": {},
   "outputs": [
    {
     "data": {
      "image/png": "[encoded data removed]",
      "text/plain": [
       "<Figure size 432x288 with 1 Axes>"
      ]
     },
     "metadata": {
      "needs_background": "light"
     },
     "output_type": "display_data"
    },
    {
     "data": {
      "image/png": "[encoded data removed]",
      "text/plain": [
       "<Figure size 432x288 with 2 Axes>"
      ]
     },
     "metadata": {
      "needs_background": "light"
     },
     "output_type": "display_data"
    }
   ],
   "source": [
    "plt.title('Ground Truth')\n",
    "plt.imshow(outs4[best_acc_pos],\n",
    "           cmap='viridis_r', interpolation='nearest')\n",
    "plt.show()\n",
    "\n",
    "# Then plot predictions by the model - v2\n",
    "plt.title(\"Prediction by model\")\n",
    "plt.imshow(preds4[best_acc_pos],\n",
    "           cmap='viridis_r', interpolation='nearest')\n",
    "plt.colorbar()\n",
    "plt.show()"
   ]
  },
  {
   "cell_type": "code",
   "execution_count": 125,
   "metadata": {},
   "outputs": [],
   "source": [
    "model.save(\"elu_resnet_2d_distances.h5\")"
   ]
  },
  {
   "cell_type": "markdown",
   "metadata": {},
   "source": [
    "# Done!\n",
    "\n",
    "## Loading later"
   ]
  },
  {
   "cell_type": "code",
   "execution_count": 127,
   "metadata": {},
   "outputs": [],
   "source": [
    "# from keras.models import load_model"
   ]
  },
  {
   "cell_type": "code",
   "execution_count": 130,
   "metadata": {},
   "outputs": [],
   "source": [
    "# model = load_model(\"elu_resnet_2d_distances.h5\",\n",
    "#                    custom_objects={'loss': weighted_categorical_crossentropy(np.array([0.0001,1.5,2,1.5,1,1,1])),\n",
    "#                                   'softMaxAxis2': softMaxAxis2})"
   ]
  }
 ],
 "metadata": {
  "kernelspec": {
   "display_name": "Python 3",
   "language": "python",
   "name": "python3"
  },
  "language_info": {
   "codemirror_mode": {
    "name": "ipython",
    "version": 3
   },
   "file_extension": ".py",
   "mimetype": "text/x-python",
   "name": "python",
   "nbconvert_exporter": "python",
   "pygments_lexer": "ipython3",
   "version": "3.6.7"
  }
 },
 "nbformat": 4,
 "nbformat_minor": 2
}
