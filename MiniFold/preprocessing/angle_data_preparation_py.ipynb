{
 "cells": [
  {
   "cell_type": "markdown",
   "metadata": {},
   "source": [
    "# PREPARE THE DATA\n",
    "The data here prepared will be used to train the model."
   ]
  },
  {
   "cell_type": "code",
   "execution_count": 1,
   "metadata": {},
   "outputs": [],
   "source": [
    "\"\"\" The dataset here prepared will contain N proteins in one-hot 21-dimensional\n",
    "    20 dimensions for one-hot encoding + the Van der Waals radius of the AA.\n",
    "    Plus 21 dimensions more for the PSSM (Position Specific Scoring Matrix)\n",
    "    Input prepraed will be a Nx34x34x(21+21) tensor and will have 2 angles as output. \n",
    "\"\"\"\n",
    "\n",
    "# import libraries\n",
    "import numpy as np\n",
    "import matplotlib.pyplot as plt"
   ]
  },
  {
   "cell_type": "code",
   "execution_count": 2,
   "metadata": {},
   "outputs": [],
   "source": [
    "# Helper functions to extract numeric data from text\n",
    "def parse_lines(raw):\n",
    "    return np.array([[float(x) for x in line.split(\" \") if x != \"\"] for line in raw])\n",
    "\n",
    "def parse_line(line):\n",
    "    return np.array([float(x) for x in line.split(\" \") if x != \"\"])"
   ]
  },
  {
   "cell_type": "code",
   "execution_count": 3,
   "metadata": {},
   "outputs": [],
   "source": [
    "path = \"../data/angles/full_angles_under_200.txt\"\n",
    "# Opn file and read text\n",
    "with open(path, \"r\") as f:\n",
    "    lines = f.read().split('\\n')"
   ]
  },
  {
   "cell_type": "code",
   "execution_count": 4,
   "metadata": {
    "scrolled": false
   },
   "outputs": [
    {
     "name": "stdout",
     "output_type": "stream",
     "text": [
      "Currently @  50  out of n\n",
      "Currently @  100  out of n\n",
      "Currently @  150  out of n\n",
      "Currently @  200  out of n\n",
      "Currently @  250  out of n\n",
      "Currently @  300  out of n\n",
      "Currently @  350  out of n\n",
      "Currently @  400  out of n\n",
      "Currently @  450  out of n\n",
      "Currently @  500  out of n\n",
      "Currently @  550  out of n\n",
      "Currently @  600  out of n\n"
     ]
    }
   ],
   "source": [
    "# Scan first n proteins\n",
    "names = []\n",
    "seqs = []\n",
    "psis = []\n",
    "phis = []\n",
    "pssms = []\n",
    "\n",
    "# Extract numeric data from text\n",
    "for i,line in enumerate(lines):\n",
    "    if len(names) == 601:\n",
    "        break\n",
    "    # Read each protein separately\n",
    "    if line == \"[ID]\":\n",
    "        names.append(lines[i+1])\n",
    "    elif line == \"[PRIMARY]\":\n",
    "        seqs.append(lines[i+1])\n",
    "    elif line == \"[EVOLUTIONARY]\":\n",
    "        pssms.append(parse_lines(lines[i+1:i+22]))\n",
    "    elif lines[i] == \"[PHI]\":\n",
    "        phis.append(parse_line(lines[i+1]))\n",
    "    elif lines[i] == \"[PSI]\":\n",
    "        psis.append(parse_line(lines[i+1]))\n",
    "        # Progress control\n",
    "        if len(names)%50 == 0:\n",
    "            print(\"Currently @ \", len(names), \" out of n\")"
   ]
  },
  {
   "cell_type": "code",
   "execution_count": 5,
   "metadata": {},
   "outputs": [],
   "source": [
    "# Length of masking - 17x2 AAs\n",
    "def onehotter_aa(seq, pos):\n",
    "    pad = 17\n",
    "    # Pad sequence\n",
    "    key = \"HRKDENQSYTCPAVLIGFWM\"\n",
    "    # Van der Waals radius\n",
    "    vdw_radius = {\"H\": 118, \"R\": 148, \"K\": 135, \"D\": 91, \"E\": 109, \"N\": 96, \"Q\": 114,\n",
    "                  \"S\": 73, \"Y\": 141, \"T\": 93, \"C\": 86, \"P\": 90, \"A\": 67, \"V\": 105,\n",
    "                  \"L\": 124, \"I\": 124, \"G\": 48, \"F\": 135, \"W\": 163, \"M\": 124}\n",
    "    radius_rel = vdw_radius.values()\n",
    "    basis = min(radius_rel)/max(radius_rel)\n",
    "    # Surface exposure \n",
    "    surface = {\"H\": 151, \"R\": 196, \"K\": 167, \"D\": 106, \"E\": 138, \"N\": 113, \"Q\": 144,\n",
    "                  \"S\": 80, \"Y\": 187, \"T\": 102, \"C\": 104, \"P\": 105, \"A\": 67, \"V\": 117,\n",
    "                  \"L\": 137, \"I\": 140, \"G\": 0, \"F\": 175, \"W\": 217, \"M\": 160}\n",
    "    surface_rel = surface.values()\n",
    "    surface_basis = min(surface_rel)/max(surface_rel)\n",
    "    # One-hot encoding\n",
    "    one_hot = []\n",
    "    for i in range(pos-pad, pos+pad): # alponer los guiones ya tiramos la seq para un lado\n",
    "        vec = [0 for i in range(22)]\n",
    "        # mark as 1 the corresponding indexes\n",
    "        for j in range(len(key)):\n",
    "            if seq[i] == key[j]:\n",
    "                vec[j] = 1\n",
    "                # Add Van der Waals relative radius\n",
    "                vec[-2] = vdw_radius[key[j]]/max(radius_rel)-basis\n",
    "                vec[-1] = surface[key[j]]/max(surface_rel)-surface_basis\n",
    "        \n",
    "        one_hot.append(vec) \n",
    "    \n",
    "    return np.array(one_hot)"
   ]
  },
  {
   "cell_type": "code",
   "execution_count": 6,
   "metadata": {},
   "outputs": [],
   "source": [
    "#Crops the PSSM matrix\n",
    "def pssm_cropper(pssm, pos):\n",
    "    pssm_out = []\n",
    "    pad = 17\n",
    "    for i,row in enumerate(pssm):\n",
    "        pssm_out.append(row[pos-pad:pos+pad])\n",
    "    # PSSM is Lx21 - solution: transpose\n",
    "    return np.array(pssm_out)"
   ]
  },
  {
   "cell_type": "code",
   "execution_count": 7,
   "metadata": {},
   "outputs": [
    {
     "name": "stdout",
     "output_type": "stream",
     "text": [
      "Names:  600\n",
      "Seqs:  600\n",
      "PSSMs:  600\n",
      "Phis:  600\n",
      "Psis:  600\n"
     ]
    }
   ],
   "source": [
    "# Ensure all features have same n. prots\n",
    "print(\"Names: \", len(names))\n",
    "print(\"Seqs: \", len(seqs))\n",
    "print(\"PSSMs: \", len(pssms))\n",
    "print(\"Phis: \", len(phis))\n",
    "print(\"Psis: \", len(psis))"
   ]
  },
  {
   "cell_type": "code",
   "execution_count": 8,
   "metadata": {},
   "outputs": [],
   "source": [
    "input_aa = []\n",
    "input_pssm = []\n",
    "outputs = []"
   ]
  },
  {
   "cell_type": "code",
   "execution_count": 9,
   "metadata": {},
   "outputs": [
    {
     "name": "stdout",
     "output_type": "stream",
     "text": [
      "TOTAL: 43001 43001\n"
     ]
    }
   ],
   "source": [
    "long = 0 # Counter to ensure everythings fine\n",
    "\n",
    "for i in range(len(seqs)): \n",
    "    if len(seqs[i])>17*2:\n",
    "        long += len(seqs[i])-17*2\n",
    "        for j in range(17,len(seqs[i])-17):\n",
    "        # Padd sequence\n",
    "            input_aa.append(onehotter_aa(seqs[i], j))\n",
    "            input_pssm.append(pssm_cropper(pssms[i], j))\n",
    "            outputs.append([phis[i][j], psis[i][j]])\n",
    "            # break\n",
    "        # print(i, \"Added: \", len(seqs[i])-34,\"total for now:  \", long)\n",
    "print(\"TOTAL:\", long, len(input_aa))"
   ]
  },
  {
   "cell_type": "code",
   "execution_count": 10,
   "metadata": {},
   "outputs": [
    {
     "name": "stdout",
     "output_type": "stream",
     "text": [
      "Outputs:  43001\n",
      "Inputs AAs:  43001\n",
      "Inputs PSSMs:  43001\n"
     ]
    }
   ],
   "source": [
    "#Check everything's fine\n",
    "print(\"Outputs: \", len(outputs))\n",
    "print(\"Inputs AAs: \", len(input_aa))\n",
    "print(\"Inputs PSSMs: \", len(input_pssm))"
   ]
  },
  {
   "cell_type": "markdown",
   "metadata": {},
   "source": [
    "#### Reshape the inputs"
   ]
  },
  {
   "cell_type": "code",
   "execution_count": 11,
   "metadata": {},
   "outputs": [
    {
     "data": {
      "text/plain": [
       "(43001, 34, 22)"
      ]
     },
     "execution_count": 11,
     "metadata": {},
     "output_type": "execute_result"
    }
   ],
   "source": [
    "input_aa = np.array(input_aa).reshape(len(input_aa), 17*2, 22)\n",
    "input_aa.shape"
   ]
  },
  {
   "cell_type": "code",
   "execution_count": 12,
   "metadata": {},
   "outputs": [
    {
     "data": {
      "text/plain": [
       "(43001, 34, 21)"
      ]
     },
     "execution_count": 12,
     "metadata": {},
     "output_type": "execute_result"
    }
   ],
   "source": [
    "input_pssm = np.array(input_pssm).reshape(len(input_pssm), 17*2, 21)\n",
    "input_pssm.shape"
   ]
  },
  {
   "cell_type": "code",
   "execution_count": 13,
   "metadata": {},
   "outputs": [],
   "source": [
    "# Helper function to save data to a .txt file\n",
    "def stringify(vec):\n",
    "    return \"\".join(str(v)+\" \" for v in vec)"
   ]
  },
  {
   "cell_type": "code",
   "execution_count": 14,
   "metadata": {},
   "outputs": [],
   "source": [
    "# Save outputs to txt file\n",
    "with open(\"../data/angles/outputs.txt\", \"a\") as f:\n",
    "    for o in outputs:\n",
    "        f.write(stringify(o)+\"\\n\")"
   ]
  },
  {
   "cell_type": "code",
   "execution_count": 15,
   "metadata": {},
   "outputs": [],
   "source": [
    "# Save AAs & PSSMs data to different files (together makes a 3dims tensor)\n",
    "# Will concat later\n",
    "with open(\"../data/angles/input_aa.txt\", \"a\") as f:\n",
    "    for aas in input_aa:\n",
    "        f.write(\"\\nNEW\\n\")\n",
    "        for j in range(len(aas)):\n",
    "            f.write(stringify(aas[j])+\"\\n\")"
   ]
  },
  {
   "cell_type": "code",
   "execution_count": 16,
   "metadata": {},
   "outputs": [],
   "source": [
    "with open(\"../data/angles/input_pssm.txt\", \"a\") as f:\n",
    "    for k in range(len(input_pssm)):\n",
    "        f.write(\"\\nNEW\\n\")\n",
    "        for j in range(len(input_pssm[k])):\n",
    "            f.write(stringify(input_pssm[k][j])+\"\\n\")"
   ]
  },
  {
   "cell_type": "markdown",
   "metadata": {},
   "source": [
    "# Done!"
   ]
  }
 ],
 "metadata": {
  "kernelspec": {
   "display_name": "Python 3",
   "language": "python",
   "name": "python3"
  },
  "language_info": {
   "codemirror_mode": {
    "name": "ipython",
    "version": 3
   },
   "file_extension": ".py",
   "mimetype": "text/x-python",
   "name": "python",
   "nbconvert_exporter": "python",
   "pygments_lexer": "ipython3",
   "version": "3.6.7"
  }
 },
 "nbformat": 4,
 "nbformat_minor": 2
}
